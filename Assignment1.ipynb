{
 "cells": [
  {
   "cell_type": "code",
   "execution_count": 2,
   "metadata": {},
   "outputs": [
    {
     "name": "stdout",
     "output_type": "stream",
     "text": [
      "Hello!\n"
     ]
    }
   ],
   "source": [
    "import java.util.Scanner;  \n"
   ]
  },
  {
   "cell_type": "code",
   "execution_count": null,
   "metadata": {},
   "outputs": [],
   "source": [
    "    //declare variables\n",
    "    int min;\n",
    "    int h;\n",
    "    //int start;\n",
    "    //int end;\n",
    "    String start, end;\n",
    "    Scanner input = new Scanner (System.in);"
   ]
  },
  {
   "cell_type": "code",
   "execution_count": 3,
   "metadata": {},
   "outputs": [
    {
     "name": "stdout",
     "output_type": "stream",
     "text": [
      "Test\n",
      "It's one o'clock\n",
      "No its two!\n",
      "It's three\n",
      "It's one o'clock\n",
      "No its two!\n",
      "It's three\n",
      "It's one o'clock\n",
      "No its two!\n",
      "It's three\n",
      "Please enter start time =>\n"
     ]
    },
    {
     "ename": "EvaluationInterruptedException",
     "evalue": "Evaluator was interrupted while executing: 'start = input.nextLine();'",
     "output_type": "error",
     "traceback": [
      "\u001b[1m\u001b[30m|   \u001b[1m\u001b[30mstart = input.nextLine();\u001b[0m",
      "\u001b[1m\u001b[31mEvaluation interrupted.\u001b[0m"
     ]
    }
   ],
   "source": [
    "\n",
    "\n",
    "\n",
    "    \n",
    "    System.out.println(\"Test\");\n",
    "\n",
    "    for(h=1;h<=12;h++)\n",
    "    {\n",
    "        if(h==1);\n",
    "        System.out.println(\"It's one o'clock\");\n",
    "        if(h==2);\n",
    "        System.out.println(\"No its two!\");\n",
    "        if(h==3);\n",
    "        System.out.println(\"It's three\");\n",
    "    }\n",
    "   \n",
    "    \n",
    "        \n",
    "\n",
    "\n",
    "    System.out.println(\"Please enter start time =>\");\n",
    "    start = input.nextLine();\n",
    "    System.out.println();\n",
    "    \n",
    "\n",
    "    System.out.println(\"Please enter end time=>\");\n",
    "    end = input.nextLine();\n",
    "    System.out.println();\n",
    "\n",
    "\n"
   ]
  },
  {
   "cell_type": "code",
   "execution_count": null,
   "metadata": {},
   "outputs": [],
   "source": []
  }
 ],
 "metadata": {
  "kernelspec": {
   "display_name": "Java",
   "language": "java",
   "name": "java"
  },
  "language_info": {
   "codemirror_mode": "java",
   "file_extension": ".jshell",
   "mimetype": "text/x-java-source",
   "name": "Java",
   "pygments_lexer": "java",
   "version": "11.0.1+13-LTS"
  }
 },
 "nbformat": 4,
 "nbformat_minor": 2
}
